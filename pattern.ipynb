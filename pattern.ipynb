{
  "nbformat": 4,
  "nbformat_minor": 0,
  "metadata": {
    "colab": {
      "name": "Untitled1.ipynb",
      "provenance": [],
      "collapsed_sections": [],
      "authorship_tag": "ABX9TyM87QdypwL23fSSQstaXLam",
      "include_colab_link": true
    },
    "kernelspec": {
      "name": "python3",
      "display_name": "Python 3"
    },
    "accelerator": "GPU"
  },
  "cells": [
    {
      "cell_type": "markdown",
      "metadata": {
        "id": "view-in-github",
        "colab_type": "text"
      },
      "source": [
        "<a href=\"https://colab.research.google.com/github/likith3611/TelescopicBicopter/blob/master/pattern.ipynb\" target=\"_parent\"><img src=\"https://colab.research.google.com/assets/colab-badge.svg\" alt=\"Open In Colab\"/></a>"
      ]
    },
    {
      "cell_type": "code",
      "metadata": {
        "id": "LRylBiWm0VrG",
        "colab_type": "code",
        "colab": {
          "base_uri": "https://localhost:8080/",
          "height": 627
        },
        "outputId": "d6966c9b-a35d-4421-9d5a-001939c3ad49"
      },
      "source": [
        "print(\"Hi\")\n",
        "!pip install numpy keras mnist tensorflow matplotlib"
      ],
      "execution_count": 2,
      "outputs": [
        {
          "output_type": "stream",
          "text": [
            "Hi\n",
            "Requirement already satisfied: numpy in /usr/local/lib/python3.6/dist-packages (1.17.5)\n",
            "Requirement already satisfied: keras in /usr/local/lib/python3.6/dist-packages (2.2.5)\n",
            "Collecting mnist\n",
            "  Downloading https://files.pythonhosted.org/packages/c6/c4/5db3bfe009f8d71f1d532bbadbd0ec203764bba3a469e4703a889db8e5e0/mnist-0.2.2-py2.py3-none-any.whl\n",
            "Requirement already satisfied: tensorflow in /usr/local/lib/python3.6/dist-packages (1.15.0)\n",
            "Requirement already satisfied: matplotlib in /usr/local/lib/python3.6/dist-packages (3.1.3)\n",
            "Requirement already satisfied: h5py in /usr/local/lib/python3.6/dist-packages (from keras) (2.8.0)\n",
            "Requirement already satisfied: scipy>=0.14 in /usr/local/lib/python3.6/dist-packages (from keras) (1.4.1)\n",
            "Requirement already satisfied: keras-applications>=1.0.8 in /usr/local/lib/python3.6/dist-packages (from keras) (1.0.8)\n",
            "Requirement already satisfied: keras-preprocessing>=1.1.0 in /usr/local/lib/python3.6/dist-packages (from keras) (1.1.0)\n",
            "Requirement already satisfied: six>=1.9.0 in /usr/local/lib/python3.6/dist-packages (from keras) (1.12.0)\n",
            "Requirement already satisfied: pyyaml in /usr/local/lib/python3.6/dist-packages (from keras) (3.13)\n",
            "Requirement already satisfied: tensorboard<1.16.0,>=1.15.0 in /usr/local/lib/python3.6/dist-packages (from tensorflow) (1.15.0)\n",
            "Requirement already satisfied: wrapt>=1.11.1 in /usr/local/lib/python3.6/dist-packages (from tensorflow) (1.11.2)\n",
            "Requirement already satisfied: astor>=0.6.0 in /usr/local/lib/python3.6/dist-packages (from tensorflow) (0.8.1)\n",
            "Requirement already satisfied: opt-einsum>=2.3.2 in /usr/local/lib/python3.6/dist-packages (from tensorflow) (3.1.0)\n",
            "Requirement already satisfied: google-pasta>=0.1.6 in /usr/local/lib/python3.6/dist-packages (from tensorflow) (0.1.8)\n",
            "Requirement already satisfied: tensorflow-estimator==1.15.1 in /usr/local/lib/python3.6/dist-packages (from tensorflow) (1.15.1)\n",
            "Requirement already satisfied: wheel>=0.26 in /usr/local/lib/python3.6/dist-packages (from tensorflow) (0.34.2)\n",
            "Requirement already satisfied: gast==0.2.2 in /usr/local/lib/python3.6/dist-packages (from tensorflow) (0.2.2)\n",
            "Requirement already satisfied: absl-py>=0.7.0 in /usr/local/lib/python3.6/dist-packages (from tensorflow) (0.9.0)\n",
            "Requirement already satisfied: termcolor>=1.1.0 in /usr/local/lib/python3.6/dist-packages (from tensorflow) (1.1.0)\n",
            "Requirement already satisfied: protobuf>=3.6.1 in /usr/local/lib/python3.6/dist-packages (from tensorflow) (3.10.0)\n",
            "Requirement already satisfied: grpcio>=1.8.6 in /usr/local/lib/python3.6/dist-packages (from tensorflow) (1.27.1)\n",
            "Requirement already satisfied: kiwisolver>=1.0.1 in /usr/local/lib/python3.6/dist-packages (from matplotlib) (1.1.0)\n",
            "Requirement already satisfied: pyparsing!=2.0.4,!=2.1.2,!=2.1.6,>=2.0.1 in /usr/local/lib/python3.6/dist-packages (from matplotlib) (2.4.6)\n",
            "Requirement already satisfied: python-dateutil>=2.1 in /usr/local/lib/python3.6/dist-packages (from matplotlib) (2.6.1)\n",
            "Requirement already satisfied: cycler>=0.10 in /usr/local/lib/python3.6/dist-packages (from matplotlib) (0.10.0)\n",
            "Requirement already satisfied: markdown>=2.6.8 in /usr/local/lib/python3.6/dist-packages (from tensorboard<1.16.0,>=1.15.0->tensorflow) (3.2.1)\n",
            "Requirement already satisfied: werkzeug>=0.11.15 in /usr/local/lib/python3.6/dist-packages (from tensorboard<1.16.0,>=1.15.0->tensorflow) (1.0.0)\n",
            "Requirement already satisfied: setuptools>=41.0.0 in /usr/local/lib/python3.6/dist-packages (from tensorboard<1.16.0,>=1.15.0->tensorflow) (45.1.0)\n",
            "Installing collected packages: mnist\n",
            "Successfully installed mnist-0.2.2\n"
          ],
          "name": "stdout"
        }
      ]
    },
    {
      "cell_type": "code",
      "metadata": {
        "id": "IW8-igHv1WXO",
        "colab_type": "code",
        "colab": {}
      },
      "source": [
        "import numpy as np \n",
        "import mnist \n",
        "from keras.models import Sequential \n",
        "from keras. layers import Dense \n",
        "from keras.utils import to_categorical\n",
        "import matplotlib.pyplot as plt \n"
      ],
      "execution_count": 0,
      "outputs": []
    },
    {
      "cell_type": "code",
      "metadata": {
        "id": "4CyDdv_Q2m3N",
        "colab_type": "code",
        "colab": {
          "base_uri": "https://localhost:8080/",
          "height": 901
        },
        "outputId": "89467187-b2c1-4b74-fe20-c66f63aace1c"
      },
      "source": [
        "images = mnist.train_images() \n",
        "labels = mnist.train_labels() \n",
        "images1 = mnist. test_images()  \n",
        "labels1 = mnist.test_labels()  \n",
        "images=(images/255)-0.5\n",
        "images1=(images1/255)-0.5\n",
        "images=images.reshape((-1,(28*28))) \n",
        "images1=images1.reshape((-1,(28*28))) \n",
        "#print(images.shape)\n",
        "#print(images1)\n",
        "model=Sequential()\n",
        "model.add(Dense(64, activation='relu', input_dim=784))\n",
        "model.add(Dense(64, activation='relu'))\n",
        "model.add(Dense(10, activation='softmax'))\n",
        "model.compile(optimizer='adam',loss = 'categorical_crossentropy',metrics=['accuracy'])\n",
        "model.fit(images,to_categorical(labels),epochs=25,batch_size=32)\n"
      ],
      "execution_count": 27,
      "outputs": [
        {
          "output_type": "stream",
          "text": [
            "Epoch 1/25\n",
            "60000/60000 [==============================] - 6s 104us/step - loss: 0.3619 - acc: 0.8894\n",
            "Epoch 2/25\n",
            "60000/60000 [==============================] - 6s 102us/step - loss: 0.1817 - acc: 0.9458\n",
            "Epoch 3/25\n",
            "60000/60000 [==============================] - 6s 100us/step - loss: 0.1417 - acc: 0.9565\n",
            "Epoch 4/25\n",
            "60000/60000 [==============================] - 6s 101us/step - loss: 0.1187 - acc: 0.9628\n",
            "Epoch 5/25\n",
            "60000/60000 [==============================] - 6s 99us/step - loss: 0.1029 - acc: 0.9677\n",
            "Epoch 6/25\n",
            "60000/60000 [==============================] - 6s 100us/step - loss: 0.0942 - acc: 0.9706\n",
            "Epoch 7/25\n",
            "60000/60000 [==============================] - 6s 103us/step - loss: 0.0853 - acc: 0.9731\n",
            "Epoch 8/25\n",
            "60000/60000 [==============================] - 6s 103us/step - loss: 0.0798 - acc: 0.9743\n",
            "Epoch 9/25\n",
            "60000/60000 [==============================] - 6s 101us/step - loss: 0.0734 - acc: 0.9768\n",
            "Epoch 10/25\n",
            "60000/60000 [==============================] - 6s 105us/step - loss: 0.0699 - acc: 0.9768\n",
            "Epoch 11/25\n",
            "60000/60000 [==============================] - 6s 103us/step - loss: 0.0643 - acc: 0.9788\n",
            "Epoch 12/25\n",
            "60000/60000 [==============================] - 6s 103us/step - loss: 0.0599 - acc: 0.9803\n",
            "Epoch 13/25\n",
            "60000/60000 [==============================] - 6s 102us/step - loss: 0.0560 - acc: 0.9818\n",
            "Epoch 14/25\n",
            "60000/60000 [==============================] - 6s 101us/step - loss: 0.0536 - acc: 0.9822\n",
            "Epoch 15/25\n",
            "60000/60000 [==============================] - 6s 101us/step - loss: 0.0518 - acc: 0.9829\n",
            "Epoch 16/25\n",
            "60000/60000 [==============================] - 6s 101us/step - loss: 0.0479 - acc: 0.9841\n",
            "Epoch 17/25\n",
            "60000/60000 [==============================] - 6s 101us/step - loss: 0.0468 - acc: 0.9846\n",
            "Epoch 18/25\n",
            "60000/60000 [==============================] - 6s 100us/step - loss: 0.0434 - acc: 0.9859\n",
            "Epoch 19/25\n",
            "60000/60000 [==============================] - 6s 101us/step - loss: 0.0405 - acc: 0.9864\n",
            "Epoch 20/25\n",
            "60000/60000 [==============================] - 6s 104us/step - loss: 0.0386 - acc: 0.9868\n",
            "Epoch 21/25\n",
            "60000/60000 [==============================] - 6s 103us/step - loss: 0.0400 - acc: 0.9868\n",
            "Epoch 22/25\n",
            "60000/60000 [==============================] - 6s 105us/step - loss: 0.0361 - acc: 0.9881\n",
            "Epoch 23/25\n",
            "60000/60000 [==============================] - 6s 104us/step - loss: 0.0366 - acc: 0.9873\n",
            "Epoch 24/25\n",
            "60000/60000 [==============================] - 6s 100us/step - loss: 0.0340 - acc: 0.9884\n",
            "Epoch 25/25\n",
            "60000/60000 [==============================] - 6s 101us/step - loss: 0.0320 - acc: 0.9892\n"
          ],
          "name": "stdout"
        },
        {
          "output_type": "execute_result",
          "data": {
            "text/plain": [
              "<keras.callbacks.History at 0x7face28da080>"
            ]
          },
          "metadata": {
            "tags": []
          },
          "execution_count": 27
        }
      ]
    },
    {
      "cell_type": "code",
      "metadata": {
        "id": "5nXtqT4x9vo-",
        "colab_type": "code",
        "colab": {
          "base_uri": "https://localhost:8080/",
          "height": 52
        },
        "outputId": "12e741ca-43d3-4c35-b070-11f3bee624f6"
      },
      "source": [
        "model.evaluate(images1,to_categorical(labels1))"
      ],
      "execution_count": 28,
      "outputs": [
        {
          "output_type": "stream",
          "text": [
            "10000/10000 [==============================] - 1s 53us/step\n"
          ],
          "name": "stdout"
        },
        {
          "output_type": "execute_result",
          "data": {
            "text/plain": [
              "[0.10732826346309012, 0.9748]"
            ]
          },
          "metadata": {
            "tags": []
          },
          "execution_count": 28
        }
      ]
    },
    {
      "cell_type": "code",
      "metadata": {
        "id": "s7pjQkyQ-hlK",
        "colab_type": "code",
        "colab": {
          "base_uri": "https://localhost:8080/",
          "height": 52
        },
        "outputId": "243403e4-2b56-4eb4-c93b-15cad16dfe57"
      },
      "source": [
        "predictions = model.predict(images1[5:10])\n",
        "#print(predictions)\n",
        "print (np.argmax(predictions, axis =1))\n",
        "print(labels1[5:10])"
      ],
      "execution_count": 36,
      "outputs": [
        {
          "output_type": "stream",
          "text": [
            "[1 4 9 5 9]\n",
            "[1 4 9 5 9]\n"
          ],
          "name": "stdout"
        }
      ]
    },
    {
      "cell_type": "code",
      "metadata": {
        "id": "EFcYmJSE_Ezi",
        "colab_type": "code",
        "colab": {
          "base_uri": "https://localhost:8080/",
          "height": 1000
        },
        "outputId": "727fb1af-63c5-4eb8-fb34-0eaae19e6d4a"
      },
      "source": [
        "for i in range(5,10):\n",
        "  img = images1[i]\n",
        "  img = np.array(img, dtype='float')\n",
        "  pixels = img.reshape((28, 28))\n",
        "  plt.imshow(pixels, cmap='gray')\n",
        "  plt.show()"
      ],
      "execution_count": 37,
      "outputs": [
        {
          "output_type": "display_data",
          "data": {
            "image/png": "[encoded data removed]",
            "text/plain": [
              "<Figure size 432x288 with 1 Axes>"
            ]
          },
          "metadata": {
            "tags": []
          }
        },
        {
          "output_type": "display_data",
          "data": {
            "image/png": "[encoded data removed]",
            "text/plain": [
              "<Figure size 432x288 with 1 Axes>"
            ]
          },
          "metadata": {
            "tags": []
          }
        },
        {
          "output_type": "display_data",
          "data": {
            "image/png": "[encoded data removed]",
            "text/plain": [
              "<Figure size 432x288 with 1 Axes>"
            ]
          },
          "metadata": {
            "tags": []
          }
        },
        {
          "output_type": "display_data",
          "data": {
            "image/png": "[encoded data removed]",
            "text/plain": [
              "<Figure size 432x288 with 1 Axes>"
            ]
          },
          "metadata": {
            "tags": []
          }
        },
        {
          "output_type": "display_data",
          "data": {
            "image/png": "[encoded data removed]",
            "text/plain": [
              "<Figure size 432x288 with 1 Axes>"
            ]
          },
          "metadata": {
            "tags": []
          }
        }
      ]
    },
    {
      "cell_type": "code",
      "metadata": {
        "id": "ZuiZsaa30fuw",
        "colab_type": "code",
        "colab": {}
      },
      "source": [
        ""
      ],
      "execution_count": 0,
      "outputs": []
    }
  ]
}